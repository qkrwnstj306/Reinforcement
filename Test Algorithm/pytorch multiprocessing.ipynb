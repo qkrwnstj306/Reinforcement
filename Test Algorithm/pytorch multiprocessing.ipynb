{
 "cells": [
  {
   "cell_type": "code",
   "execution_count": null,
   "id": "4b7ad8bd",
   "metadata": {},
   "outputs": [],
   "source": [
    "##Python multuprocessing & multithreading\n",
    "https://docs.python.org/3/library/multiprocessing.html\n",
    "    \n",
    "https://hhj6212.github.io/programming/python/2021/04/18/python-multi.html\n",
    "    \n",
    "https://github.com/keep9oing/multiprocessing-python"
   ]
  },
  {
   "cell_type": "code",
   "execution_count": 4,
   "id": "5b19d167",
   "metadata": {},
   "outputs": [],
   "source": [
    "##예제 1: concurrent.features 모듈"
   ]
  },
  {
   "cell_type": "code",
   "execution_count": 1,
   "id": "c5e07c12",
   "metadata": {},
   "outputs": [
    {
     "name": "stdout",
     "output_type": "stream",
     "text": [
      "5 Sat Jan 21 14:49:02 2023\n",
      "3 Sat Jan 21 14:49:02 2023\n",
      "7 Sat Jan 21 14:49:02 2023\n",
      "done!\n"
     ]
    }
   ],
   "source": [
    "import time\n",
    "from concurrent.futures import ThreadPoolExecutor\n",
    "\n",
    "def print_sum(num1, num2):\n",
    "    time.sleep(3)\n",
    "    print(num1 + num2, time.ctime())\n",
    "\n",
    "def main():\n",
    "    with ThreadPoolExecutor(max_workers=3) as executor:\n",
    "        executor.submit(print_sum, 1, 2)\n",
    "        executor.submit(print_sum, 2, 3)\n",
    "        executor.submit(print_sum, 3, 4)\n",
    "    print(\"done!\")\n",
    "\n",
    "if __name__ == \"__main__\":\n",
    "    main()"
   ]
  },
  {
   "cell_type": "code",
   "execution_count": 3,
   "id": "7d58a151",
   "metadata": {},
   "outputs": [
    {
     "name": "stdout",
     "output_type": "stream",
     "text": [
      "375   Sat Jan 21 14:49:48 2023\n",
      "Sat Jan 21 14:49:48 2023Sat Jan 21 14:49:48 2023\n",
      "\n",
      "done!\n"
     ]
    }
   ],
   "source": [
    "import time\n",
    "from concurrent.futures import ProcessPoolExecutor\n",
    "\n",
    "def print_sum(num1, num2):\n",
    "    time.sleep(3)\n",
    "    print(num1 + num2, time.ctime())\n",
    "\n",
    "def main():\n",
    "    with ProcessPoolExecutor(max_workers=3) as executor:\n",
    "        executor.submit(print_sum, 1, 2)\n",
    "        executor.submit(print_sum, 2, 3)\n",
    "        executor.submit(print_sum, 3, 4)\n",
    "    print(\"done!\")\n",
    "\n",
    "if __name__ == \"__main__\":\n",
    "    main()"
   ]
  },
  {
   "cell_type": "code",
   "execution_count": 5,
   "id": "bc404256",
   "metadata": {},
   "outputs": [],
   "source": [
    "##예제 2: threading 모듈"
   ]
  },
  {
   "cell_type": "code",
   "execution_count": 6,
   "id": "e4f39a4e",
   "metadata": {},
   "outputs": [
    {
     "name": "stdout",
     "output_type": "stream",
     "text": [
      "done!\n",
      "35 Sat Jan 21 14:51:24 2023\n",
      " Sat Jan 21 14:51:24 2023\n",
      "7 Sat Jan 21 14:51:24 2023\n"
     ]
    }
   ],
   "source": [
    "import threading\n",
    "import time\n",
    "\n",
    "def print_sum(num1, num2):\n",
    "    time.sleep(3)\n",
    "    print(num1 + num2, time.ctime())\n",
    "\n",
    "def main():\n",
    "    thread1 = threading.Thread(target=print_sum, args=(1, 2))\n",
    "    thread2 = threading.Thread(target=print_sum, args=(2, 3))\n",
    "    thread3 = threading.Thread(target=print_sum, args=(3, 4))\n",
    "\n",
    "    thread1.start()\n",
    "    thread2.start()\n",
    "    thread3.start()\n",
    "    print(\"done!\")\n",
    "\n",
    "if __name__ == \"__main__\":\n",
    "    main()"
   ]
  },
  {
   "cell_type": "code",
   "execution_count": 7,
   "id": "00a092f7",
   "metadata": {},
   "outputs": [
    {
     "name": "stdout",
     "output_type": "stream",
     "text": [
      "73 Sat Jan 21 14:52:17 2023\n",
      "5 Sat Jan 21 14:52:17 2023\n",
      " Sat Jan 21 14:52:17 2023\n"
     ]
    },
    {
     "ename": "KeyboardInterrupt",
     "evalue": "",
     "output_type": "error",
     "traceback": [
      "\u001b[0;31m---------------------------------------------------------------------------\u001b[0m",
      "\u001b[0;31mKeyboardInterrupt\u001b[0m                         Traceback (most recent call last)",
      "Cell \u001b[0;32mIn[7], line 30\u001b[0m\n\u001b[1;32m     27\u001b[0m         \u001b[38;5;28mprint\u001b[39m(thread\u001b[38;5;241m.\u001b[39mname, thread\u001b[38;5;241m.\u001b[39mis_alive())\n\u001b[1;32m     29\u001b[0m \u001b[38;5;28;01mif\u001b[39;00m \u001b[38;5;18m__name__\u001b[39m \u001b[38;5;241m==\u001b[39m \u001b[38;5;124m\"\u001b[39m\u001b[38;5;124m__main__\u001b[39m\u001b[38;5;124m\"\u001b[39m:\n\u001b[0;32m---> 30\u001b[0m     \u001b[43mmain\u001b[49m\u001b[43m(\u001b[49m\u001b[43m)\u001b[49m\n",
      "Cell \u001b[0;32mIn[7], line 21\u001b[0m, in \u001b[0;36mmain\u001b[0;34m()\u001b[0m\n\u001b[1;32m     19\u001b[0m     \u001b[38;5;28;01mif\u001b[39;00m thread \u001b[38;5;129;01mis\u001b[39;00m main_thread:\n\u001b[1;32m     20\u001b[0m         \u001b[38;5;28;01mcontinue\u001b[39;00m\n\u001b[0;32m---> 21\u001b[0m     \u001b[43mthread\u001b[49m\u001b[38;5;241;43m.\u001b[39;49m\u001b[43mjoin\u001b[49m\u001b[43m(\u001b[49m\u001b[43m)\u001b[49m\n\u001b[1;32m     22\u001b[0m     \u001b[38;5;28mprint\u001b[39m(thread\u001b[38;5;241m.\u001b[39mname, thread\u001b[38;5;241m.\u001b[39mis_alive())\n\u001b[1;32m     24\u001b[0m \u001b[38;5;28mprint\u001b[39m(\u001b[38;5;124m\"\u001b[39m\u001b[38;5;124mdone!\u001b[39m\u001b[38;5;124m\"\u001b[39m)\n",
      "File \u001b[0;32m~/anaconda3/envs/pytorch/lib/python3.8/threading.py:1011\u001b[0m, in \u001b[0;36mThread.join\u001b[0;34m(self, timeout)\u001b[0m\n\u001b[1;32m   1008\u001b[0m     \u001b[38;5;28;01mraise\u001b[39;00m \u001b[38;5;167;01mRuntimeError\u001b[39;00m(\u001b[38;5;124m\"\u001b[39m\u001b[38;5;124mcannot join current thread\u001b[39m\u001b[38;5;124m\"\u001b[39m)\n\u001b[1;32m   1010\u001b[0m \u001b[38;5;28;01mif\u001b[39;00m timeout \u001b[38;5;129;01mis\u001b[39;00m \u001b[38;5;28;01mNone\u001b[39;00m:\n\u001b[0;32m-> 1011\u001b[0m     \u001b[38;5;28;43mself\u001b[39;49m\u001b[38;5;241;43m.\u001b[39;49m\u001b[43m_wait_for_tstate_lock\u001b[49m\u001b[43m(\u001b[49m\u001b[43m)\u001b[49m\n\u001b[1;32m   1012\u001b[0m \u001b[38;5;28;01melse\u001b[39;00m:\n\u001b[1;32m   1013\u001b[0m     \u001b[38;5;66;03m# the behavior of a negative timeout isn't documented, but\u001b[39;00m\n\u001b[1;32m   1014\u001b[0m     \u001b[38;5;66;03m# historically .join(timeout=x) for x<0 has acted as if timeout=0\u001b[39;00m\n\u001b[1;32m   1015\u001b[0m     \u001b[38;5;28mself\u001b[39m\u001b[38;5;241m.\u001b[39m_wait_for_tstate_lock(timeout\u001b[38;5;241m=\u001b[39m\u001b[38;5;28mmax\u001b[39m(timeout, \u001b[38;5;241m0\u001b[39m))\n",
      "File \u001b[0;32m~/anaconda3/envs/pytorch/lib/python3.8/threading.py:1027\u001b[0m, in \u001b[0;36mThread._wait_for_tstate_lock\u001b[0;34m(self, block, timeout)\u001b[0m\n\u001b[1;32m   1025\u001b[0m \u001b[38;5;28;01mif\u001b[39;00m lock \u001b[38;5;129;01mis\u001b[39;00m \u001b[38;5;28;01mNone\u001b[39;00m:  \u001b[38;5;66;03m# already determined that the C code is done\u001b[39;00m\n\u001b[1;32m   1026\u001b[0m     \u001b[38;5;28;01massert\u001b[39;00m \u001b[38;5;28mself\u001b[39m\u001b[38;5;241m.\u001b[39m_is_stopped\n\u001b[0;32m-> 1027\u001b[0m \u001b[38;5;28;01melif\u001b[39;00m \u001b[43mlock\u001b[49m\u001b[38;5;241;43m.\u001b[39;49m\u001b[43macquire\u001b[49m\u001b[43m(\u001b[49m\u001b[43mblock\u001b[49m\u001b[43m,\u001b[49m\u001b[43m \u001b[49m\u001b[43mtimeout\u001b[49m\u001b[43m)\u001b[49m:\n\u001b[1;32m   1028\u001b[0m     lock\u001b[38;5;241m.\u001b[39mrelease()\n\u001b[1;32m   1029\u001b[0m     \u001b[38;5;28mself\u001b[39m\u001b[38;5;241m.\u001b[39m_stop()\n",
      "\u001b[0;31mKeyboardInterrupt\u001b[0m: "
     ]
    }
   ],
   "source": [
    "import threading\n",
    "import time\n",
    "\n",
    "def print_sum(num1, num2):\n",
    "    time.sleep(3)\n",
    "    print(num1 + num2, time.ctime())\n",
    "\n",
    "def main():\n",
    "    thread1 = threading.Thread(target=print_sum, args=(1, 2))\n",
    "    thread2 = threading.Thread(target=print_sum, args=(2, 3))\n",
    "    thread3 = threading.Thread(target=print_sum, args=(3, 4))\n",
    "\n",
    "    thread1.start()\n",
    "    thread2.start()\n",
    "    thread3.start()\n",
    "\n",
    "    main_thread = threading.currentThread()\n",
    "    for thread in threading.enumerate():\n",
    "        if thread is main_thread:\n",
    "            continue\n",
    "        thread.join()\n",
    "        print(thread.name, thread.is_alive())\n",
    "\n",
    "    print(\"done!\")\n",
    "\n",
    "    for thread in threading.enumerate():\n",
    "        print(thread.name, thread.is_alive())\n",
    "\n",
    "if __name__ == \"__main__\":\n",
    "    main()"
   ]
  },
  {
   "cell_type": "code",
   "execution_count": null,
   "id": "43759ab6",
   "metadata": {},
   "outputs": [],
   "source": [
    "##예제 3: multiprocessing 모듈"
   ]
  },
  {
   "cell_type": "code",
   "execution_count": 1,
   "id": "2e228b13",
   "metadata": {},
   "outputs": [
    {
     "name": "stdout",
     "output_type": "stream",
     "text": [
      "735   Sat Apr  8 16:39:33 2023Sat Apr  8 16:39:33 2023Sat Apr  8 16:39:33 2023\n",
      "\n",
      "\n"
     ]
    }
   ],
   "source": [
    "import multiprocessing\n",
    "import time\n",
    "\n",
    "def print_sum(num1, num2):\n",
    "    time.sleep(3)\n",
    "    print(num1 + num2, time.ctime())\n",
    "\n",
    "def main():\n",
    "    with multiprocessing.Pool(3) as pool:\n",
    "        pool.starmap(print_sum, [(1, 2), (2, 3), (3, 4)])\n",
    "\n",
    "if __name__ == \"__main__\":\n",
    "    main()"
   ]
  },
  {
   "cell_type": "code",
   "execution_count": null,
   "id": "dbd6bf44",
   "metadata": {},
   "outputs": [],
   "source": [
    "import multiprocessing\n",
    "import time\n",
    "\n",
    "\n",
    "def print_sum(num1, num2):\n",
    "    time.sleep(3)\n",
    "    print(num1 + num2, time.ctime())\n",
    "\n",
    "\n",
    "def main():\n",
    "    process1 = multiprocessing.Process(target=print_sum, args=(1, 2))\n",
    "    process2 = multiprocessing.Process(target=print_sum, args=(2, 3))\n",
    "    process3 = multiprocessing.Process(target=print_sum, args=(3, 4))\n",
    "\n",
    "    process1.start()\n",
    "    process2.start()\n",
    "    process3.start()\n",
    "\n",
    "    print(\"done!\")\n",
    "\n",
    "\n",
    "if __name__ == \"__main__\":\n",
    "    main()"
   ]
  },
  {
   "cell_type": "code",
   "execution_count": 2,
   "id": "27359a07",
   "metadata": {},
   "outputs": [
    {
     "name": "stdout",
     "output_type": "stream",
     "text": [
      "3 5Sat Apr  8 16:40:09 2023 Sat Apr  8 16:40:09 2023\n",
      "\n",
      "7 Sat Apr  8 16:40:09 2023\n",
      "Process-5 677864 False\n",
      "Process-4 677863 False\n",
      "Process-6 677865 False\n",
      "done!\n"
     ]
    }
   ],
   "source": [
    "import multiprocessing\n",
    "import time\n",
    "\n",
    "def print_sum(num1, num2):\n",
    "    time.sleep(3)\n",
    "    print(num1 + num2, time.ctime())\n",
    "\n",
    "def main():\n",
    "    process1 = multiprocessing.Process(target=print_sum, args=(1, 2))\n",
    "    process2 = multiprocessing.Process(target=print_sum, args=(2, 3))\n",
    "    process3 = multiprocessing.Process(target=print_sum, args=(3, 4))\n",
    "\n",
    "    process1.start()\n",
    "    process2.start()\n",
    "    process3.start()\n",
    "\n",
    "    for process in multiprocessing.active_children():\n",
    "        process.join()\n",
    "        print(process.name, process.pid, process.is_alive())\n",
    "\n",
    "    print(\"done!\")\n",
    "\n",
    "    for process in multiprocessing.active_children():\n",
    "        print(process.name, process.is_alive())\n",
    "\n",
    "if __name__ == \"__main__\":\n",
    "    main()"
   ]
  },
  {
   "cell_type": "code",
   "execution_count": null,
   "id": "5b408d59",
   "metadata": {},
   "outputs": [],
   "source": [
    "procs = []\n",
    "for i in range(4):\n",
    "        p = multiprocessing.Process(target=heavy_work, args=(i, ))\n",
    "        p.start()\n",
    "        procs.append(p)\n",
    "\n",
    "    for p in procs:\n",
    "        p.join()  # 프로세스가 모두 종료될 때까지 대기\n"
   ]
  },
  {
   "cell_type": "code",
   "execution_count": 8,
   "id": "c2903b55",
   "metadata": {},
   "outputs": [],
   "source": [
    "##Pytorch multuprocessing & multithreading\n",
    "https://newsight.tistory.com/323"
   ]
  }
 ],
 "metadata": {
  "kernelspec": {
   "display_name": "pytorch",
   "language": "python",
   "name": "pytorch"
  },
  "language_info": {
   "codemirror_mode": {
    "name": "ipython",
    "version": 3
   },
   "file_extension": ".py",
   "mimetype": "text/x-python",
   "name": "python",
   "nbconvert_exporter": "python",
   "pygments_lexer": "ipython3",
   "version": "3.8.1"
  }
 },
 "nbformat": 4,
 "nbformat_minor": 5
}
